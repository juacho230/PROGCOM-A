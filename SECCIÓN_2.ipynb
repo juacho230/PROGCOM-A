{
  "nbformat": 4,
  "nbformat_minor": 0,
  "metadata": {
    "colab": {
      "provenance": []
    },
    "kernelspec": {
      "name": "python3",
      "display_name": "Python 3"
    },
    "language_info": {
      "name": "python"
    }
  },
  "cells": [
    {
      "cell_type": "code",
      "execution_count": null,
      "metadata": {
        "id": "MN8RngKtY0qe"
      },
      "outputs": [],
      "source": []
    },
    {
      "cell_type": "code",
      "source": [
        "#Desarrolle un programa que determine si un número es par o impar\n",
        "\n",
        "# Solicitar al usuario que ingrese un número\n",
        "num= int(input(\"Ingrese un número: \"))\n",
        "\n",
        "if num % 2 == 0:\n",
        "    print(f\"El número {num} es par.\")\n",
        "elif num % 2 != 0:\n",
        "    print(f\"El número {num} es impar.\")\n",
        "else:\n",
        "    print(\"Hubo un error al ingresar al número.\")\n"
      ],
      "metadata": {
        "id": "crg8H9lqT8lD"
      },
      "execution_count": null,
      "outputs": []
    },
    {
      "cell_type": "markdown",
      "source": [
        "Ingrese un número: 3\n",
        "El número 3 es impar."
      ],
      "metadata": {
        "id": "gUOzSJHJUDUK"
      }
    },
    {
      "cell_type": "code",
      "source": [
        "#Crea un programa que determine si un año es bisiesto (divisible por 4 y no por 100, o divisible por 400).\n",
        "año = int(input(\"Ingrese un año: \"))\n",
        "\n",
        "if (año % 4 == 0 and año % 100 != 0) or (año % 400 == 0):\n",
        "    print(f\"El año {año} es bisiesto.\")\n",
        "else:\n",
        "    print(f\"El año {año} no es bisiesto.\")"
      ],
      "metadata": {
        "id": "bK1Y35lBWPuo",
        "outputId": "af78e3b6-b2bc-4eea-b9aa-16924ce608f2",
        "colab": {
          "base_uri": "https://localhost:8080/"
        }
      },
      "execution_count": null,
      "outputs": [
        {
          "output_type": "stream",
          "name": "stdout",
          "text": [
            "Ingrese un año: 1870\n",
            "El año 1870 no es bisiesto.\n"
          ]
        }
      ]
    },
    {
      "cell_type": "markdown",
      "source": [
        "Ingrese un año: 1678\n",
        "El año 1678 no es bisiesto."
      ],
      "metadata": {
        "id": "0-fGy1c1Wqio"
      }
    },
    {
      "cell_type": "code",
      "source": [
        "#Crea un programa que determine si un año es bisiesto (divisible por 4 y no por 100, o divisible por 400).\n",
        "año = int(input(\"Ingrese un año: \"))\n",
        "\n",
        "match (año % 4 == 0, año % 100 != 0, año % 400 == 0):\n",
        "    case (True, True, _):\n",
        "        print(f\"El año {año} es bisiesto.\")\n",
        "    case (_, _, True):\n",
        "        print(f\"El año {año} es bisiesto.\")\n",
        "    case _:\n",
        "        print(f\"El año {año} no es bisiesto.\")"
      ],
      "metadata": {
        "id": "sX0jPnALWwiI"
      },
      "execution_count": null,
      "outputs": []
    },
    {
      "cell_type": "markdown",
      "source": [
        "Ingrese un año: 1680\n",
        "El año 1680 es bisiesto."
      ],
      "metadata": {
        "id": "5rF0Y925Wz1f"
      }
    },
    {
      "cell_type": "code",
      "source": [
        "# Escribe un programa que solicite el nombre del usuario y determine si una persona pertenece a la tercera edad (70 años o más) y si se cumple la condición, imprima que se le da prioridad en la fila.\n",
        "nombre = input(\"Ingrese su nombre: \")\n",
        "\n",
        "edad = int(input(\"Ingrese su edad: \"))\n",
        "\n",
        "if edad >= 70:\n",
        "    print(f\"{nombre}, usted tiene prioridad en la fila debido a su edad.\")\n",
        "elif edad < 70:\n",
        "    print(f\"{nombre}, usted no tiene prioridad en la fila.\")\n"
      ],
      "metadata": {
        "id": "Q4bBvW3zW2D3"
      },
      "execution_count": null,
      "outputs": []
    },
    {
      "cell_type": "markdown",
      "source": [
        "Ingrese su nombre: juacho\n",
        "Ingrese su edad: 23\n",
        "juacho, usted no tiene prioridad en la fila."
      ],
      "metadata": {
        "id": "4XHTkGJyXRGQ"
      }
    },
    {
      "cell_type": "code",
      "source": [
        "#Escribe un programa que solicite el nombre del usuario y determine si una persona pertenece a la tercera edad (70 años o más) y si se cumple la condición, imprima que se le da prioridad en la fila.\n",
        "nombre = input(\"Ingrese su nombre: \")\n",
        "\n",
        "edad = int(input(\"Ingrese su edad: \"))\n",
        "\n",
        "match True:\n",
        "    case _ if edad >= 70:\n",
        "        print(f\"{nombre}, usted tiene prioridad en la fila debido a su edad.\")\n",
        "    case _:\n",
        "        print(f\"{nombre}, usted no tiene prioridad en la fila.\")\n"
      ],
      "metadata": {
        "id": "F7LnbjrkW_yP"
      },
      "execution_count": null,
      "outputs": []
    },
    {
      "cell_type": "markdown",
      "source": [
        "Ingrese su nombre: llerena\n",
        "Ingrese su edad: 45\n",
        "g, usted no tiene prioridad en la fila."
      ],
      "metadata": {
        "id": "ZU-qvOsvXWtA"
      }
    },
    {
      "cell_type": "code",
      "source": [
        "# Desarrolla un programa que compare tres números y muestre el mayor.\n",
        "num1 = int(input(\"Ingrese el primer número: \"))\n",
        "num2 = int(input(\"Ingrese el segundo número: \"))\n",
        "num3 = int(input(\"Ingrese el tercer número: \"))\n",
        "\n",
        "if num1 >= num2 and num1 >= num3:\n",
        "    print(f\"El mayor número es {num1}.\")\n",
        "elif num2 >= num1 and num2 >= num3:\n",
        "    print(f\"El mayor número es {num2}.\")\n",
        "else:\n",
        "    print(f\"El mayor número es {num3}.\")\n"
      ],
      "metadata": {
        "id": "DYJb1wlQXcaH"
      },
      "execution_count": null,
      "outputs": []
    },
    {
      "cell_type": "markdown",
      "source": [
        "Ingrese el primer número: 2\n",
        "Ingrese el segundo número: 7\n",
        "Ingrese el tercer número: 9\n",
        "El mayor número es 9."
      ],
      "metadata": {
        "id": "8AdOwDybXeuv"
      }
    },
    {
      "cell_type": "code",
      "source": [
        "# Desarrolla un programa que compare tres números y muestre el mayor.\n",
        "num1 = int(input(\"Ingrese el primer número: \"))\n",
        "num2 = int(input(\"Ingrese el segundo número: \"))\n",
        "num3 = int(input(\"Ingrese el tercer número: \"))\n",
        "\n",
        "match True:\n",
        "    case _ if num1 >= num2 and num1 >= num3:\n",
        "        print(f\"El mayor número es {num1}.\")\n",
        "    case _ if num2 >= num1 and num2 >= num3:\n",
        "        print(f\"El mayor número es {num2}.\")\n",
        "    case _:\n",
        "        print(f\"El mayor número es {num3}.\")\n"
      ],
      "metadata": {
        "id": "L6Az5LtDXomP"
      },
      "execution_count": null,
      "outputs": []
    },
    {
      "cell_type": "markdown",
      "source": [
        "Ingrese el primer número: 18\n",
        "Ingrese el segundo número: 6\n",
        "Ingrese el tercer número: 13\n",
        "El mayor número es 18.\n"
      ],
      "metadata": {
        "id": "6vOYDrpiXr0H"
      }
    },
    {
      "cell_type": "code",
      "source": [
        "# Crea un programa que determine si un triángulo es equilátero, isósceles o escaleno según sus lados.\n",
        "lado1 = float(input(\"Ingrese la longitud del primer lado: \"))\n",
        "lado2 = float(input(\"Ingrese la longitud del segundo lado: \"))\n",
        "lado3 = float(input(\"Ingrese la longitud del tercer lado: \"))\n",
        "\n",
        "if lado1 == lado2 == lado3:\n",
        "    print(\"El triángulo es equilátero.\")\n",
        "elif lado1 == lado2 or lado2 == lado3 or lado1 == lado3:\n",
        "    print(\"El triángulo es isósceles.\")\n",
        "else:\n",
        "    print(\"El triángulo es escaleno.\")\n"
      ],
      "metadata": {
        "id": "uWcr-pXTXyiX"
      },
      "execution_count": null,
      "outputs": []
    },
    {
      "cell_type": "markdown",
      "source": [
        "Ingrese la longitud del primer lado: 3\n",
        "Ingrese la longitud del segundo lado: 67\n",
        "Ingrese la longitud del tercer lado: 23\n",
        "El triángulo es escaleno."
      ],
      "metadata": {
        "id": "0wopJCECX033"
      }
    },
    {
      "cell_type": "code",
      "source": [
        "# Crea un programa que determine si un triángulo es equilátero, isósceles o escaleno según sus lados.\n",
        "lado1 = float(input(\"Ingrese la longitud del primer lado: \"))\n",
        "lado2 = float(input(\"Ingrese la longitud del segundo lado: \"))\n",
        "lado3 = float(input(\"Ingrese la longitud del tercer lado: \"))\n",
        "\n",
        "# Usamos match para clasificar el triángulo según las condiciones\n",
        "match (lado1 <= 0 or lado2 <= 0 or lado3 <= 0, lado1 + lado2 <= lado3 or lado1 + lado3 <= lado2 or lado2 + lado3 <= lado1):\n",
        "    case (True, _):\n",
        "        print(\"Las longitudes de los lados deben ser mayores que cero.\")\n",
        "    case (_, True):\n",
        "        print(\"Los lados ingresados no forman un triángulo válido.\")\n",
        "    case (False, False):\n",
        "        match (lado1, lado2, lado3):\n",
        "            case (a, b, c) if a == b == c:\n",
        "                print(\"El triángulo es equilátero.\")\n",
        "            case (a, b, c) if a == b or b == c or a == c:\n",
        "                print(\"El triángulo es isósceles.\")\n",
        "            case (a, b, c):\n",
        "                print(\"El triángulo es escaleno.\")"
      ],
      "metadata": {
        "id": "9qUywFAaYCmY"
      },
      "execution_count": null,
      "outputs": []
    },
    {
      "cell_type": "markdown",
      "source": [
        "Ingrese la longitud del primer lado: 10\n",
        "Ingrese la longitud del segundo lado: 10\n",
        "Ingrese la longitud del tercer lado: 10\n",
        "El triángulo es equilátero."
      ],
      "metadata": {
        "id": "xsZpzE2NYIZY"
      }
    }
  ]
}