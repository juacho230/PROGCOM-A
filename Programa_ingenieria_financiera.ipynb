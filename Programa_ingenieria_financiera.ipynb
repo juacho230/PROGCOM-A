{
  "nbformat": 4,
  "nbformat_minor": 0,
  "metadata": {
    "colab": {
      "provenance": [],
      "authorship_tag": "ABX9TyPttnhOulujcpueUSEJcB2C",
      "include_colab_link": true
    },
    "kernelspec": {
      "name": "python3",
      "display_name": "Python 3"
    },
    "language_info": {
      "name": "python"
    }
  },
  "cells": [
    {
      "cell_type": "markdown",
      "metadata": {
        "id": "view-in-github",
        "colab_type": "text"
      },
      "source": [
        "<a href=\"https://colab.research.google.com/github/juacho230/PROGCOM-A/blob/main/Programa_ingenieria_financiera.ipynb\" target=\"_parent\"><img src=\"https://colab.research.google.com/assets/colab-badge.svg\" alt=\"Open In Colab\"/></a>"
      ]
    },
    {
      "cell_type": "code",
      "source": [
        "import numpy as np\n",
        "import pandas as pd\n",
        "import matplotlib.pyplot as plt\n",
        "from scipy.optimize import minimize\n",
        "\n",
        "class FinancialCalculator:\n",
        "    def __init__(self):\n",
        "        pass\n",
        "\n",
        "    def future_value(self, present_value, rate, periods):\n",
        "        return present_value * (1 + rate) ** periods\n",
        "\n",
        "    def present_value(self, future_value, rate, periods):\n",
        "        return future_value / (1 + rate) ** periods\n",
        "\n",
        "    def compound_interest(self, principal, rate, periods):\n",
        "        return principal * ((1 + rate) ** periods - 1)\n",
        "\n",
        "    def loan_payment(self, loan_amount, rate, periods):\n",
        "        return (loan_amount * rate) / (1 - (1 + rate) ** -periods)\n",
        "\n",
        "# Ejemplo de uso\n",
        "calculator = FinancialCalculator()\n",
        "print(\"Valor Futuro de $1000 a 5 años con tasa del 5%:\", calculator.future_value(1000, 0.05, 5))\n",
        "print(\"Valor Presente de $2000 a recibir en 3 años con tasa del 4%:\", calculator.present_value(2000, 0.04, 3))\n",
        "print(\"Interés Compuesto sobre $1500 a 4 años con tasa del 6%:\", calculator.compound_interest(1500, 0.06, 4))\n",
        "print(\"Pago de préstamo de $5000 a 10 años con tasa del 7% anual:\", calculator.loan_payment(5000, 0.07, 10))\n"
      ],
      "metadata": {
        "colab": {
          "base_uri": "https://localhost:8080/"
        },
        "id": "xUCGoJ_82qGR",
        "outputId": "4d49d01c-52f0-4aed-f3ca-c06812cb3fd5"
      },
      "execution_count": 2,
      "outputs": [
        {
          "output_type": "stream",
          "name": "stdout",
          "text": [
            "Valor Futuro de $1000 a 5 años con tasa del 5%: 1276.2815625000003\n",
            "Valor Presente de $2000 a recibir en 3 años con tasa del 4%: 1777.9927173418296\n",
            "Interés Compuesto sobre $1500 a 4 años con tasa del 6%: 393.71544000000046\n",
            "Pago de préstamo de $5000 a 10 años con tasa del 7% anual: 711.8875136368233\n"
          ]
        }
      ]
    }
  ]
}