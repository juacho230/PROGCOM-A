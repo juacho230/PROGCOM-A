{
  "nbformat": 4,
  "nbformat_minor": 0,
  "metadata": {
    "colab": {
      "provenance": [],
      "authorship_tag": "ABX9TyMDv2IAiTVgcbtfjKw1cboD",
      "include_colab_link": true
    },
    "kernelspec": {
      "name": "python3",
      "display_name": "Python 3"
    },
    "language_info": {
      "name": "python"
    }
  },
  "cells": [
    {
      "cell_type": "markdown",
      "metadata": {
        "id": "view-in-github",
        "colab_type": "text"
      },
      "source": [
        "<a href=\"https://colab.research.google.com/github/juacho230/PROGCOM-A/blob/main/Puntos_25_30_Juan_Llerena.ipynb\" target=\"_parent\"><img src=\"https://colab.research.google.com/assets/colab-badge.svg\" alt=\"Open In Colab\"/></a>"
      ]
    },
    {
      "cell_type": "code",
      "source": [
        "#25 Calcular la potencia de un número sin usar **\n",
        "\n",
        "def potencia(base, exponente):\n",
        "    resultado = 1\n",
        "    for _ in range(abs(exponente)):\n",
        "        resultado *= base\n",
        "    return resultado if exponente >= 0 else 1 / resultado\n",
        "\n",
        "print(potencia(2, 3))  # 8\n",
        "print(potencia(5, -2)) # 0.04\n"
      ],
      "metadata": {
        "colab": {
          "base_uri": "https://localhost:8080/"
        },
        "collapsed": true,
        "id": "7aiK2zInQt9A",
        "outputId": "e1c074ee-a6da-4050-b335-a3a35c8e8712"
      },
      "execution_count": 5,
      "outputs": [
        {
          "output_type": "stream",
          "name": "stdout",
          "text": [
            "8\n",
            "0.04\n"
          ]
        }
      ]
    },
    {
      "cell_type": "code",
      "source": [
        "potencia_lambda = lambda base, exp: (lambda res=1: res if exp == 0 else res * base if exp > 0 else 1 / res)(sum([base for _ in range(abs(exp))]))\n",
        "\n",
        "print(potencia_lambda(2, 3))  # 8\n",
        "print(potencia_lambda(5, -2)) # 0.04\n"
      ],
      "metadata": {
        "colab": {
          "base_uri": "https://localhost:8080/"
        },
        "collapsed": true,
        "id": "9X0sp-fpQyB3",
        "outputId": "2395e59c-b487-4668-ca64-0db56e039d90"
      },
      "execution_count": 6,
      "outputs": [
        {
          "output_type": "stream",
          "name": "stdout",
          "text": [
            "12\n",
            "0.1\n"
          ]
        }
      ]
    },
    {
      "cell_type": "code",
      "execution_count": 1,
      "metadata": {
        "colab": {
          "base_uri": "https://localhost:8080/"
        },
        "collapsed": true,
        "id": "nIXgKzZaMrOs",
        "outputId": "e890a969-bffd-47b9-cf18-78018c3efb07"
      },
      "outputs": [
        {
          "output_type": "stream",
          "name": "stdout",
          "text": [
            "Tabla del 1:\n",
            "1 x 1 = 1\n",
            "1 x 2 = 2\n",
            "1 x 3 = 3\n",
            "1 x 4 = 4\n",
            "1 x 5 = 5\n",
            "1 x 6 = 6\n",
            "1 x 7 = 7\n",
            "1 x 8 = 8\n",
            "1 x 9 = 9\n",
            "1 x 10 = 10\n",
            "\n",
            "Tabla del 2:\n",
            "2 x 1 = 2\n",
            "2 x 2 = 4\n",
            "2 x 3 = 6\n",
            "2 x 4 = 8\n",
            "2 x 5 = 10\n",
            "2 x 6 = 12\n",
            "2 x 7 = 14\n",
            "2 x 8 = 16\n",
            "2 x 9 = 18\n",
            "2 x 10 = 20\n",
            "\n",
            "Tabla del 3:\n",
            "3 x 1 = 3\n",
            "3 x 2 = 6\n",
            "3 x 3 = 9\n",
            "3 x 4 = 12\n",
            "3 x 5 = 15\n",
            "3 x 6 = 18\n",
            "3 x 7 = 21\n",
            "3 x 8 = 24\n",
            "3 x 9 = 27\n",
            "3 x 10 = 30\n",
            "\n",
            "Tabla del 4:\n",
            "4 x 1 = 4\n",
            "4 x 2 = 8\n",
            "4 x 3 = 12\n",
            "4 x 4 = 16\n",
            "4 x 5 = 20\n",
            "4 x 6 = 24\n",
            "4 x 7 = 28\n",
            "4 x 8 = 32\n",
            "4 x 9 = 36\n",
            "4 x 10 = 40\n",
            "\n",
            "Tabla del 5:\n",
            "5 x 1 = 5\n",
            "5 x 2 = 10\n",
            "5 x 3 = 15\n",
            "5 x 4 = 20\n",
            "5 x 5 = 25\n",
            "5 x 6 = 30\n",
            "5 x 7 = 35\n",
            "5 x 8 = 40\n",
            "5 x 9 = 45\n",
            "5 x 10 = 50\n",
            "\n",
            "Tabla del 6:\n",
            "6 x 1 = 6\n",
            "6 x 2 = 12\n",
            "6 x 3 = 18\n",
            "6 x 4 = 24\n",
            "6 x 5 = 30\n",
            "6 x 6 = 36\n",
            "6 x 7 = 42\n",
            "6 x 8 = 48\n",
            "6 x 9 = 54\n",
            "6 x 10 = 60\n",
            "\n",
            "Tabla del 7:\n",
            "7 x 1 = 7\n",
            "7 x 2 = 14\n",
            "7 x 3 = 21\n",
            "7 x 4 = 28\n",
            "7 x 5 = 35\n",
            "7 x 6 = 42\n",
            "7 x 7 = 49\n",
            "7 x 8 = 56\n",
            "7 x 9 = 63\n",
            "7 x 10 = 70\n",
            "\n",
            "Tabla del 8:\n",
            "8 x 1 = 8\n",
            "8 x 2 = 16\n",
            "8 x 3 = 24\n",
            "8 x 4 = 32\n",
            "8 x 5 = 40\n",
            "8 x 6 = 48\n",
            "8 x 7 = 56\n",
            "8 x 8 = 64\n",
            "8 x 9 = 72\n",
            "8 x 10 = 80\n",
            "\n",
            "Tabla del 9:\n",
            "9 x 1 = 9\n",
            "9 x 2 = 18\n",
            "9 x 3 = 27\n",
            "9 x 4 = 36\n",
            "9 x 5 = 45\n",
            "9 x 6 = 54\n",
            "9 x 7 = 63\n",
            "9 x 8 = 72\n",
            "9 x 9 = 81\n",
            "9 x 10 = 90\n",
            "\n",
            "Tabla del 10:\n",
            "10 x 1 = 10\n",
            "10 x 2 = 20\n",
            "10 x 3 = 30\n",
            "10 x 4 = 40\n",
            "10 x 5 = 50\n",
            "10 x 6 = 60\n",
            "10 x 7 = 70\n",
            "10 x 8 = 80\n",
            "10 x 9 = 90\n",
            "10 x 10 = 100\n",
            "\n"
          ]
        }
      ],
      "source": [
        "#26 Mostrar todas las tablas de multiplicar del 1 al 10\n",
        "\n",
        "def mostrar_tablas():\n",
        "    for i in range(1, 11):\n",
        "        print(f\"Tabla del {i}:\")\n",
        "        for j in range(1, 11):\n",
        "            print(f\"{i} x {j} = {i * j}\")\n",
        "        print()\n",
        "\n",
        "mostrar_tablas()\n"
      ]
    },
    {
      "cell_type": "code",
      "source": [
        "tabla_lambda = lambda x: [f\"{x} x {i} = {x * i}\" for i in range(1, 11)]\n",
        "[print(\"\\n\".join(tabla_lambda(n)), \"\\n\") for n in range(1, 11)]\n"
      ],
      "metadata": {
        "colab": {
          "base_uri": "https://localhost:8080/"
        },
        "collapsed": true,
        "id": "2c0aCzo1PyqA",
        "outputId": "5ba26726-8b04-48f6-c443-8fd328b56a74"
      },
      "execution_count": 2,
      "outputs": [
        {
          "output_type": "stream",
          "name": "stdout",
          "text": [
            "1 x 1 = 1\n",
            "1 x 2 = 2\n",
            "1 x 3 = 3\n",
            "1 x 4 = 4\n",
            "1 x 5 = 5\n",
            "1 x 6 = 6\n",
            "1 x 7 = 7\n",
            "1 x 8 = 8\n",
            "1 x 9 = 9\n",
            "1 x 10 = 10 \n",
            "\n",
            "2 x 1 = 2\n",
            "2 x 2 = 4\n",
            "2 x 3 = 6\n",
            "2 x 4 = 8\n",
            "2 x 5 = 10\n",
            "2 x 6 = 12\n",
            "2 x 7 = 14\n",
            "2 x 8 = 16\n",
            "2 x 9 = 18\n",
            "2 x 10 = 20 \n",
            "\n",
            "3 x 1 = 3\n",
            "3 x 2 = 6\n",
            "3 x 3 = 9\n",
            "3 x 4 = 12\n",
            "3 x 5 = 15\n",
            "3 x 6 = 18\n",
            "3 x 7 = 21\n",
            "3 x 8 = 24\n",
            "3 x 9 = 27\n",
            "3 x 10 = 30 \n",
            "\n",
            "4 x 1 = 4\n",
            "4 x 2 = 8\n",
            "4 x 3 = 12\n",
            "4 x 4 = 16\n",
            "4 x 5 = 20\n",
            "4 x 6 = 24\n",
            "4 x 7 = 28\n",
            "4 x 8 = 32\n",
            "4 x 9 = 36\n",
            "4 x 10 = 40 \n",
            "\n",
            "5 x 1 = 5\n",
            "5 x 2 = 10\n",
            "5 x 3 = 15\n",
            "5 x 4 = 20\n",
            "5 x 5 = 25\n",
            "5 x 6 = 30\n",
            "5 x 7 = 35\n",
            "5 x 8 = 40\n",
            "5 x 9 = 45\n",
            "5 x 10 = 50 \n",
            "\n",
            "6 x 1 = 6\n",
            "6 x 2 = 12\n",
            "6 x 3 = 18\n",
            "6 x 4 = 24\n",
            "6 x 5 = 30\n",
            "6 x 6 = 36\n",
            "6 x 7 = 42\n",
            "6 x 8 = 48\n",
            "6 x 9 = 54\n",
            "6 x 10 = 60 \n",
            "\n",
            "7 x 1 = 7\n",
            "7 x 2 = 14\n",
            "7 x 3 = 21\n",
            "7 x 4 = 28\n",
            "7 x 5 = 35\n",
            "7 x 6 = 42\n",
            "7 x 7 = 49\n",
            "7 x 8 = 56\n",
            "7 x 9 = 63\n",
            "7 x 10 = 70 \n",
            "\n",
            "8 x 1 = 8\n",
            "8 x 2 = 16\n",
            "8 x 3 = 24\n",
            "8 x 4 = 32\n",
            "8 x 5 = 40\n",
            "8 x 6 = 48\n",
            "8 x 7 = 56\n",
            "8 x 8 = 64\n",
            "8 x 9 = 72\n",
            "8 x 10 = 80 \n",
            "\n",
            "9 x 1 = 9\n",
            "9 x 2 = 18\n",
            "9 x 3 = 27\n",
            "9 x 4 = 36\n",
            "9 x 5 = 45\n",
            "9 x 6 = 54\n",
            "9 x 7 = 63\n",
            "9 x 8 = 72\n",
            "9 x 9 = 81\n",
            "9 x 10 = 90 \n",
            "\n",
            "10 x 1 = 10\n",
            "10 x 2 = 20\n",
            "10 x 3 = 30\n",
            "10 x 4 = 40\n",
            "10 x 5 = 50\n",
            "10 x 6 = 60\n",
            "10 x 7 = 70\n",
            "10 x 8 = 80\n",
            "10 x 9 = 90\n",
            "10 x 10 = 100 \n",
            "\n"
          ]
        },
        {
          "output_type": "execute_result",
          "data": {
            "text/plain": [
              "[None, None, None, None, None, None, None, None, None, None]"
            ]
          },
          "metadata": {},
          "execution_count": 2
        }
      ]
    },
    {
      "cell_type": "code",
      "source": [
        "#27 Encontrar todos los números perfectos hasta n\n",
        "\n",
        "def es_perfecto(num):\n",
        "    return sum([i for i in range(1, num) if num % i == 0]) == num\n",
        "\n",
        "def numeros_perfectos(n):\n",
        "    return [x for x in range(1, n + 1) if es_perfecto(x)]\n",
        "\n",
        "print(numeros_perfectos(10000))  # Prueba con un número grande\n"
      ],
      "metadata": {
        "colab": {
          "base_uri": "https://localhost:8080/"
        },
        "collapsed": true,
        "id": "sePd_6bhP8dQ",
        "outputId": "e52a0e67-df47-40dc-8514-7e9eebd3093a"
      },
      "execution_count": 7,
      "outputs": [
        {
          "output_type": "stream",
          "name": "stdout",
          "text": [
            "[6, 28, 496, 8128]\n"
          ]
        }
      ]
    },
    {
      "cell_type": "code",
      "source": [
        "es_perfecto_lambda = lambda num: sum(filter(lambda i: num % i == 0, range(1, num))) == num\n",
        "numeros_perfectos_lambda = lambda n: list(filter(es_perfecto_lambda, range(1, n+1)))\n",
        "\n",
        "print(numeros_perfectos_lambda(10000))\n"
      ],
      "metadata": {
        "colab": {
          "base_uri": "https://localhost:8080/"
        },
        "collapsed": true,
        "id": "XIR41i3xQIYo",
        "outputId": "9124903a-4b42-4625-dd21-85fe0251ac66"
      },
      "execution_count": 8,
      "outputs": [
        {
          "output_type": "stream",
          "name": "stdout",
          "text": [
            "[6, 28, 496, 8128]\n"
          ]
        }
      ]
    },
    {
      "cell_type": "code",
      "source": [
        "#28 Generar un patrón de diamante con asteriscos\n",
        "\n",
        "def diamante(n):\n",
        "    for i in range(1, n+1, 2):\n",
        "        print(\" \" * ((n - i) // 2) + \"*\" * i)\n",
        "    for i in range(n-2, 0, -2):\n",
        "        print(\" \" * ((n - i) // 2) + \"*\" * i)\n",
        "\n",
        "diamante(7)\n"
      ],
      "metadata": {
        "colab": {
          "base_uri": "https://localhost:8080/"
        },
        "collapsed": true,
        "id": "0_Aayle9QKkw",
        "outputId": "a5477b73-9ad8-428b-fe73-bf9ddb7efa10"
      },
      "execution_count": 3,
      "outputs": [
        {
          "output_type": "stream",
          "name": "stdout",
          "text": [
            "   *\n",
            "  ***\n",
            " *****\n",
            "*******\n",
            " *****\n",
            "  ***\n",
            "   *\n"
          ]
        }
      ]
    },
    {
      "cell_type": "code",
      "source": [
        "diamante_lambda = lambda n: \"\\n\".join([\" \" * ((n - i) // 2) + \"*\" * i for i in list(range(1, n+1, 2)) + list(range(n-2, 0, -2))])\n",
        "print(diamante_lambda(7))\n"
      ],
      "metadata": {
        "collapsed": true,
        "colab": {
          "base_uri": "https://localhost:8080/"
        },
        "id": "WA-fwvHbQSFY",
        "outputId": "fd173534-aa55-437e-c498-9a52b7416f13"
      },
      "execution_count": 4,
      "outputs": [
        {
          "output_type": "stream",
          "name": "stdout",
          "text": [
            "   *\n",
            "  ***\n",
            " *****\n",
            "*******\n",
            " *****\n",
            "  ***\n",
            "   *\n"
          ]
        }
      ]
    },
    {
      "cell_type": "code",
      "source": [
        "#29 Encontrar los números Armstrong hasta n\n",
        "\n",
        "def es_armstrong(num):\n",
        "    return num == sum(int(digit) ** len(str(num)) for digit in str(num))\n",
        "\n",
        "def numeros_armstrong(n):\n",
        "    return [x for x in range(1, n+1) if es_armstrong(x)]\n",
        "\n",
        "print(numeros_armstrong(10000))\n"
      ],
      "metadata": {
        "colab": {
          "base_uri": "https://localhost:8080/"
        },
        "collapsed": true,
        "id": "my57OFyCQYKA",
        "outputId": "32cb5063-b0fe-4859-a9c1-362e6cdda7e9"
      },
      "execution_count": 9,
      "outputs": [
        {
          "output_type": "stream",
          "name": "stdout",
          "text": [
            "[1, 2, 3, 4, 5, 6, 7, 8, 9, 153, 370, 371, 407, 1634, 8208, 9474]\n"
          ]
        }
      ]
    },
    {
      "cell_type": "code",
      "source": [
        "es_armstrong_lambda = lambda num: num == sum(int(d) ** len(str(num)) for d in str(num))\n",
        "numeros_armstrong_lambda = lambda n: list(filter(es_armstrong_lambda, range(1, n+1)))\n",
        "\n",
        "print(numeros_armstrong_lambda(10000))\n"
      ],
      "metadata": {
        "colab": {
          "base_uri": "https://localhost:8080/"
        },
        "collapsed": true,
        "id": "I51lqUhUQewP",
        "outputId": "ab1b8605-8219-49e6-82ba-a688f40da103"
      },
      "execution_count": 10,
      "outputs": [
        {
          "output_type": "stream",
          "name": "stdout",
          "text": [
            "[1, 2, 3, 4, 5, 6, 7, 8, 9, 153, 370, 371, 407, 1634, 8208, 9474]\n"
          ]
        }
      ]
    },
    {
      "cell_type": "code",
      "source": [
        "#30 Simular un reloj digital mostrando horas, minutos y segundos\n",
        "\n",
        "import time\n",
        "\n",
        "def reloj(segundos):\n",
        "    for s in range(segundos):\n",
        "        hrs, mins, secs = s // 3600, (s % 3600) // 60, s % 60\n",
        "        print(f\"{hrs:02}:{mins:02}:{secs:02}\", end=\"\\r\")\n",
        "        time.sleep(1)\n",
        "\n",
        "reloj(10)  # Simula 10 segundos\n"
      ],
      "metadata": {
        "colab": {
          "base_uri": "https://localhost:8080/"
        },
        "id": "U2v-fSoFQgbQ",
        "outputId": "aaec1c45-aef9-4c6a-a69a-969712508be5"
      },
      "execution_count": 13,
      "outputs": [
        {
          "output_type": "stream",
          "name": "stdout",
          "text": []
        }
      ]
    },
    {
      "cell_type": "code",
      "source": [
        "import time\n",
        "\n",
        "reloj_lambda = lambda segundos: [print(f\"{s//3600:02}:{(s%3600)//60:02}:{s%60:02}\", end=\"\\r\") or time.sleep(1) for s in range(segundos)]\n",
        "\n",
        "reloj_lambda(10)\n"
      ],
      "metadata": {
        "colab": {
          "base_uri": "https://localhost:8080/"
        },
        "collapsed": true,
        "id": "1VcppWkxQm9g",
        "outputId": "a3e47014-e53a-4893-ed91-d4f670c9f401"
      },
      "execution_count": 12,
      "outputs": [
        {
          "output_type": "stream",
          "name": "stdout",
          "text": []
        },
        {
          "output_type": "execute_result",
          "data": {
            "text/plain": [
              "[None, None, None, None, None, None, None, None, None, None]"
            ]
          },
          "metadata": {},
          "execution_count": 12
        }
      ]
    }
  ]
}